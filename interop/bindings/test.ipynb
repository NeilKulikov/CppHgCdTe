{
 "cells": [
  {
   "cell_type": "code",
   "execution_count": 1,
   "metadata": {},
   "outputs": [],
   "source": [
    "import numpy as np"
   ]
  },
  {
   "cell_type": "code",
   "execution_count": 2,
   "metadata": {},
   "outputs": [],
   "source": [
    "import hgcdte_py as hgcdte"
   ]
  },
  {
   "cell_type": "code",
   "execution_count": 3,
   "metadata": {},
   "outputs": [],
   "source": [
    "import matplotlib.pyplot as plt"
   ]
  },
  {
   "cell_type": "code",
   "execution_count": 4,
   "metadata": {},
   "outputs": [],
   "source": [
    "xs = np.array([0.0, 10.0, 10.00001, 12.999999, 13.0, 23.0])\n",
    "ys = np.array([1.0, 1.0,  0.00000, 0.00000, 1.0,  1.0])"
   ]
  },
  {
   "cell_type": "code",
   "execution_count": 5,
   "metadata": {},
   "outputs": [
    {
     "data": {
      "text/plain": [
       "[<matplotlib.lines.Line2D at 0x11564e710>]"
      ]
     },
     "execution_count": 5,
     "metadata": {},
     "output_type": "execute_result"
    },
    {
     "data": {
      "image/png": "[encoded data removed]",
      "text/plain": [
       "<Figure size 432x288 with 1 Axes>"
      ]
     },
     "metadata": {
      "needs_background": "light"
     },
     "output_type": "display_data"
    }
   ],
   "source": [
    "plt.plot(xs, ys)"
   ]
  },
  {
   "cell_type": "code",
   "execution_count": 6,
   "metadata": {},
   "outputs": [],
   "source": [
    "mod = hgcdte.model(xs, ys)"
   ]
  },
  {
   "cell_type": "code",
   "execution_count": 7,
   "metadata": {},
   "outputs": [],
   "source": [
    "hcr = hgcdte.hcore(mod, 3)"
   ]
  },
  {
   "cell_type": "code",
   "execution_count": 8,
   "metadata": {},
   "outputs": [],
   "source": [
    "hin1, hin2 = hcr.hinst((0., 0.)), hcr.hinst((1., 0.))"
   ]
  },
  {
   "cell_type": "code",
   "execution_count": 9,
   "metadata": {},
   "outputs": [],
   "source": [
    "import h5py"
   ]
  },
  {
   "cell_type": "code",
   "execution_count": 10,
   "metadata": {},
   "outputs": [],
   "source": [
    "hi1 = hcr.spectre((0., 0.))"
   ]
  },
  {
   "cell_type": "code",
   "execution_count": 11,
   "metadata": {},
   "outputs": [
    {
     "data": {
      "text/plain": [
       "(24,)"
      ]
     },
     "execution_count": 11,
     "metadata": {},
     "output_type": "execute_result"
    }
   ],
   "source": [
    "hi1.shape"
   ]
  },
  {
   "cell_type": "code",
   "execution_count": 12,
   "metadata": {},
   "outputs": [],
   "source": [
    "hi2 = hcr.spectre((1., 0.))"
   ]
  },
  {
   "cell_type": "code",
   "execution_count": 13,
   "metadata": {},
   "outputs": [],
   "source": [
    "inp = h5py.File('h0.hdf5', 'r')"
   ]
  },
  {
   "cell_type": "code",
   "execution_count": 14,
   "metadata": {},
   "outputs": [
    {
     "data": {
      "text/plain": [
       "['h0', 'h1']"
      ]
     },
     "execution_count": 14,
     "metadata": {},
     "output_type": "execute_result"
    }
   ],
   "source": [
    "list(inp.keys())"
   ]
  },
  {
   "cell_type": "code",
   "execution_count": 15,
   "metadata": {},
   "outputs": [],
   "source": [
    "hp1, hp2 = inp['h0'][:], inp['h1'][:]\n",
    "inp.close()"
   ]
  },
  {
   "cell_type": "code",
   "execution_count": 16,
   "metadata": {},
   "outputs": [],
   "source": [
    "to_norm = lambda arr: np.transpose(arr, (0, 2, 1, 3)).reshape(24, 24)\n",
    "he1, he2 = to_norm(hp1), to_norm(hp2)"
   ]
  },
  {
   "cell_type": "code",
   "execution_count": 21,
   "metadata": {},
   "outputs": [
    {
     "name": "stdout",
     "output_type": "stream",
     "text": [
      "1.710343823457805e-06\n"
     ]
    },
    {
     "data": {
      "text/plain": [
       "<matplotlib.image.AxesImage at 0x115ab2910>"
      ]
     },
     "execution_count": 21,
     "metadata": {},
     "output_type": "execute_result"
    },
    {
     "data": {
      "image/png": "[encoded data removed]",
      "text/plain": [
       "<Figure size 600x600 with 1 Axes>"
      ]
     },
     "metadata": {
      "needs_background": "light"
     },
     "output_type": "display_data"
    }
   ],
   "source": [
    "dif1 = hin1 - 1.e-3 * he1\n",
    "print(np.max(np.abs(dif1)))\n",
    "plt.figure(figsize=(5,5), dpi = 120)\n",
    "plt.imshow(np.real(dif1), vmin = -1.e-3, vmax = 1.e-3)"
   ]
  },
  {
   "cell_type": "code",
   "execution_count": 18,
   "metadata": {},
   "outputs": [
    {
     "name": "stdout",
     "output_type": "stream",
     "text": [
      "1.6142093939297553e-06\n"
     ]
    },
    {
     "data": {
      "text/plain": [
       "<matplotlib.image.AxesImage at 0x10a529cd0>"
      ]
     },
     "execution_count": 18,
     "metadata": {},
     "output_type": "execute_result"
    },
    {
     "data": {
      "image/png": "[encoded data removed]",
      "text/plain": [
       "<Figure size 600x600 with 1 Axes>"
      ]
     },
     "metadata": {
      "needs_background": "light"
     },
     "output_type": "display_data"
    }
   ],
   "source": [
    "dif2 = hin2 - 1.e-3 * he2\n",
    "print(np.max(np.abs(dif2)))\n",
    "plt.figure(figsize=(5,5), dpi = 120)\n",
    "plt.imshow(np.imag(dif2), vmin = -1.e-3, vmax = 1.e-3)"
   ]
  },
  {
   "cell_type": "code",
   "execution_count": 19,
   "metadata": {},
   "outputs": [
    {
     "data": {
      "text/plain": [
       "<matplotlib.image.AxesImage at 0x1159bd110>"
      ]
     },
     "execution_count": 19,
     "metadata": {},
     "output_type": "execute_result"
    },
    {
     "data": {
      "image/png": "[encoded data removed]",
      "text/plain": [
       "<Figure size 600x600 with 1 Axes>"
      ]
     },
     "metadata": {
      "needs_background": "light"
     },
     "output_type": "display_data"
    }
   ],
   "source": [
    "plt.figure(figsize=(5,5), dpi = 120)\n",
    "plt.imshow(np.imag(dif2[0:8, 8:16]), vmin = -1.e-4, vmax = 1.e-4)"
   ]
  },
  {
   "cell_type": "code",
   "execution_count": 21,
   "metadata": {},
   "outputs": [
    {
     "data": {
      "text/plain": [
       "array([[-1.22224192e-06+5.68434189e-17j, -7.77156117e-19+0.00000000e+00j,\n",
       "        -2.84217094e-17-2.84217094e-17j, -6.21724894e-18-3.55271368e-18j,\n",
       "         1.77635684e-17+0.00000000e+00j,  0.00000000e+00+0.00000000e+00j,\n",
       "         5.32907052e-18-3.55271368e-18j, -2.84217094e-17+0.00000000e+00j],\n",
       "       [ 7.77156117e-19+0.00000000e+00j, -1.22224192e-06+5.68434189e-17j,\n",
       "         0.00000000e+00+0.00000000e+00j, -1.77635684e-17+0.00000000e+00j,\n",
       "        -6.21724894e-18-3.55271368e-18j,  2.84217094e-17+2.84217094e-17j,\n",
       "        -2.84217094e-17+0.00000000e+00j, -5.32907052e-18+3.55271368e-18j],\n",
       "       [-2.84217094e-17-2.84217094e-17j,  0.00000000e+00+0.00000000e+00j,\n",
       "         5.32157342e-07-2.66453526e-17j, -2.27745069e-08+5.09795147e-10j,\n",
       "        -3.56501757e-09-3.99363772e-09j,  0.00000000e+00+0.00000000e+00j,\n",
       "         1.61040193e-08-3.60479605e-10j,  5.04187182e-09+5.64785662e-09j],\n",
       "       [-6.21724894e-18-3.55271368e-18j, -1.77635684e-17+0.00000000e+00j,\n",
       "        -4.16083030e-03-5.09795145e-10j,  5.28040950e-07-2.84217094e-17j,\n",
       "        -3.78962707e-10-1.47679204e-09j, -3.56501757e-09-3.99363772e-09j,\n",
       "         2.91083028e-09+3.26079154e-09j, -2.73570548e-08+2.71286833e-09j],\n",
       "       [ 1.77635684e-17+0.00000000e+00j, -6.21724894e-18-3.55271368e-18j,\n",
       "        -3.56501757e-09+3.99363771e-09j, -4.80448706e-03+1.47679204e-09j,\n",
       "         5.28040950e-07-2.84217094e-17j,  2.21180495e-08-3.06767400e-09j,\n",
       "        -2.73570548e-08+2.71286833e-09j, -2.91083028e-09-3.26079154e-09j],\n",
       "       [ 0.00000000e+00+0.00000000e+00j,  2.84217094e-17+2.84217094e-17j,\n",
       "         0.00000000e+00+0.00000000e+00j, -3.56501757e-09+3.99363771e-09j,\n",
       "        -4.16078540e-03+3.06767400e-09j,  5.32157342e-07-2.66453526e-17j,\n",
       "        -5.04187182e-09-5.64785662e-09j,  1.61040193e-08-3.60479605e-10j],\n",
       "       [ 5.32907052e-18-3.55271368e-18j, -2.84217094e-17+0.00000000e+00j,\n",
       "         2.94215132e-03+3.60479604e-10j,  2.91083028e-09-3.26079154e-09j,\n",
       "         1.69861520e-03-2.71286833e-09j, -5.04187182e-09+5.64785662e-09j,\n",
       "         4.75682359e-07-5.32907052e-17j, -3.78962707e-10-1.47679204e-09j],\n",
       "       [-2.84217094e-17+0.00000000e+00j, -5.32907052e-18+3.55271368e-18j,\n",
       "         5.04187182e-09-5.64785662e-09j,  1.69861520e-03-2.71286833e-09j,\n",
       "        -2.91083028e-09+3.26079154e-09j,  2.94215132e-03+3.60479604e-10j,\n",
       "        -4.80448706e-03+1.47679204e-09j,  4.75682359e-07-5.32907052e-17j]])"
      ]
     },
     "execution_count": 21,
     "metadata": {},
     "output_type": "execute_result"
    }
   ],
   "source": [
    "dif2[0:8, 8:16]"
   ]
  },
  {
   "cell_type": "code",
   "execution_count": 34,
   "metadata": {},
   "outputs": [
    {
     "data": {
      "text/plain": [
       "(24,)"
      ]
     },
     "execution_count": 34,
     "metadata": {},
     "output_type": "execute_result"
    }
   ],
   "source": [
    "hi1.transpose().shape"
   ]
  },
  {
   "cell_type": "code",
   "execution_count": 9,
   "metadata": {},
   "outputs": [],
   "source": [
    "ks2 = np.arange(0., 1.02, 0.02)"
   ]
  },
  {
   "cell_type": "code",
   "execution_count": 10,
   "metadata": {},
   "outputs": [],
   "source": [
    "eiss2 = np.array([hcr.spectre((kx, 0.)) for kx in ks2])"
   ]
  },
  {
   "cell_type": "code",
   "execution_count": 11,
   "metadata": {},
   "outputs": [
    {
     "ename": "IndexError",
     "evalue": "index 366 is out of bounds for axis 1 with size 24",
     "output_type": "error",
     "traceback": [
      "\u001b[0;31m---------------------------------------------------------------------------\u001b[0m",
      "\u001b[0;31mIndexError\u001b[0m                                Traceback (most recent call last)",
      "\u001b[0;32m<ipython-input-11-559c4d2d874b>\u001b[0m in \u001b[0;36m<module>\u001b[0;34m\u001b[0m\n\u001b[1;32m      1\u001b[0m \u001b[0mplt\u001b[0m\u001b[0;34m.\u001b[0m\u001b[0mfigure\u001b[0m\u001b[0;34m(\u001b[0m\u001b[0mfigsize\u001b[0m\u001b[0;34m=\u001b[0m\u001b[0;34m(\u001b[0m\u001b[0;36m7.5\u001b[0m\u001b[0;34m,\u001b[0m\u001b[0;36m5\u001b[0m\u001b[0;34m)\u001b[0m\u001b[0;34m,\u001b[0m \u001b[0mdpi\u001b[0m\u001b[0;34m=\u001b[0m\u001b[0;36m120\u001b[0m\u001b[0;34m)\u001b[0m\u001b[0;34m\u001b[0m\u001b[0;34m\u001b[0m\u001b[0m\n\u001b[0;32m----> 2\u001b[0;31m \u001b[0mplt\u001b[0m\u001b[0;34m.\u001b[0m\u001b[0mplot\u001b[0m\u001b[0;34m(\u001b[0m\u001b[0mks2\u001b[0m\u001b[0;34m,\u001b[0m \u001b[0meiss2\u001b[0m\u001b[0;34m[\u001b[0m\u001b[0;34m:\u001b[0m\u001b[0;34m,\u001b[0m \u001b[0;36m366\u001b[0m\u001b[0;34m]\u001b[0m\u001b[0;34m,\u001b[0m \u001b[0;34m'y-'\u001b[0m\u001b[0;34m)\u001b[0m\u001b[0;34m\u001b[0m\u001b[0;34m\u001b[0m\u001b[0m\n\u001b[0m\u001b[1;32m      3\u001b[0m \u001b[0mplt\u001b[0m\u001b[0;34m.\u001b[0m\u001b[0mplot\u001b[0m\u001b[0;34m(\u001b[0m\u001b[0mks2\u001b[0m\u001b[0;34m,\u001b[0m \u001b[0meiss2\u001b[0m\u001b[0;34m[\u001b[0m\u001b[0;34m:\u001b[0m\u001b[0;34m,\u001b[0m \u001b[0;36m368\u001b[0m\u001b[0;34m]\u001b[0m\u001b[0;34m,\u001b[0m \u001b[0;34m'r-'\u001b[0m\u001b[0;34m)\u001b[0m\u001b[0;34m\u001b[0m\u001b[0;34m\u001b[0m\u001b[0m\n\u001b[1;32m      4\u001b[0m \u001b[0mplt\u001b[0m\u001b[0;34m.\u001b[0m\u001b[0mplot\u001b[0m\u001b[0;34m(\u001b[0m\u001b[0mks2\u001b[0m\u001b[0;34m,\u001b[0m \u001b[0meiss2\u001b[0m\u001b[0;34m[\u001b[0m\u001b[0;34m:\u001b[0m\u001b[0;34m,\u001b[0m \u001b[0;36m370\u001b[0m\u001b[0;34m]\u001b[0m\u001b[0;34m,\u001b[0m \u001b[0;34m'g-'\u001b[0m\u001b[0;34m)\u001b[0m\u001b[0;34m\u001b[0m\u001b[0;34m\u001b[0m\u001b[0m\n\u001b[1;32m      5\u001b[0m \u001b[0mplt\u001b[0m\u001b[0;34m.\u001b[0m\u001b[0mplot\u001b[0m\u001b[0;34m(\u001b[0m\u001b[0mks2\u001b[0m\u001b[0;34m,\u001b[0m \u001b[0meiss2\u001b[0m\u001b[0;34m[\u001b[0m\u001b[0;34m:\u001b[0m\u001b[0;34m,\u001b[0m \u001b[0;36m372\u001b[0m\u001b[0;34m]\u001b[0m\u001b[0;34m,\u001b[0m \u001b[0;34m'b-'\u001b[0m\u001b[0;34m)\u001b[0m\u001b[0;34m\u001b[0m\u001b[0;34m\u001b[0m\u001b[0m\n",
      "\u001b[0;31mIndexError\u001b[0m: index 366 is out of bounds for axis 1 with size 24"
     ]
    },
    {
     "data": {
      "text/plain": [
       "<Figure size 900x600 with 0 Axes>"
      ]
     },
     "metadata": {},
     "output_type": "display_data"
    }
   ],
   "source": [
    "plt.figure(figsize=(7.5,5), dpi=120)\n",
    "plt.plot(ks2, eiss2[:, 366], 'y-')\n",
    "plt.plot(ks2, eiss2[:, 368], 'r-')\n",
    "plt.plot(ks2, eiss2[:, 370], 'g-')\n",
    "plt.plot(ks2, eiss2[:, 372], 'b-')\n",
    "plt.plot(ks2, eiss2[:, 374], 'k-')\n",
    "plt.grid()"
   ]
  },
  {
   "cell_type": "code",
   "execution_count": null,
   "metadata": {},
   "outputs": [],
   "source": [
    "eiss2[0, 366:374:2] - eiss2[0, 370]"
   ]
  },
  {
   "cell_type": "code",
   "execution_count": null,
   "metadata": {},
   "outputs": [],
   "source": [
    "eiss2[0:len(ks2):10, 366:376:2] - eiss2[0, 370]"
   ]
  },
  {
   "cell_type": "code",
   "execution_count": null,
   "metadata": {},
   "outputs": [],
   "source": [
    "ks2[0:len(ks2):10]"
   ]
  },
  {
   "cell_type": "code",
   "execution_count": null,
   "metadata": {},
   "outputs": [],
   "source": []
  }
 ],
 "metadata": {
  "kernelspec": {
   "display_name": "Python 3",
   "language": "python",
   "name": "python3"
  },
  "language_info": {
   "codemirror_mode": {
    "name": "ipython",
    "version": 3
   },
   "file_extension": ".py",
   "mimetype": "text/x-python",
   "name": "python",
   "nbconvert_exporter": "python",
   "pygments_lexer": "ipython3",
   "version": "3.7.4"
  }
 },
 "nbformat": 4,
 "nbformat_minor": 4
}
