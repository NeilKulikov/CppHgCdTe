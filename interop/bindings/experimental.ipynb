{
 "cells": [
  {
   "cell_type": "code",
   "execution_count": 1,
   "metadata": {},
   "outputs": [],
   "source": [
    "using Libdl"
   ]
  },
  {
   "cell_type": "code",
   "execution_count": 2,
   "metadata": {},
   "outputs": [
    {
     "data": {
      "text/plain": [
       "Ptr{Nothing} @0x00007fa6af356b70"
      ]
     },
     "execution_count": 2,
     "metadata": {},
     "output_type": "execute_result"
    }
   ],
   "source": [
    "lib = dlopen(\"libinterop.dylib\")"
   ]
  },
  {
   "cell_type": "code",
   "execution_count": 3,
   "metadata": {},
   "outputs": [
    {
     "data": {
      "text/plain": [
       "Ptr{Nothing} @0x000000011fd34ab0"
      ]
     },
     "execution_count": 3,
     "metadata": {},
     "output_type": "execute_result"
    }
   ],
   "source": [
    "make_model = dlsym(lib, :make_model)\n",
    "make_hcore = dlsym(lib, :make_hcore)\n",
    "make_hinst = dlsym(lib, :make_hinst)\n",
    "gen_eigen = dlsym(lib, :gen_eigen)"
   ]
  },
  {
   "cell_type": "code",
   "execution_count": 4,
   "metadata": {},
   "outputs": [
    {
     "data": {
      "text/plain": [
       "101-element Array{Float64,1}:\n",
       " 0.5                \n",
       " 0.524958354161707  \n",
       " 0.5496673326987653 \n",
       " 0.5738800516653348 \n",
       " 0.5973545855771626 \n",
       " 0.6198563846510508 \n",
       " 0.6411606183487588 \n",
       " 0.6610544218094228 \n",
       " 0.6793390227248807 \n",
       " 0.6958317274068708 \n",
       " 0.7103677462019742 \n",
       " 0.7228018400153589 \n",
       " 0.7330097714918066 \n",
       " ⋮                  \n",
       " 0.6252552141144712 \n",
       " 0.6030296213104391 \n",
       " 0.579774590587338  \n",
       " 0.555722478525062  \n",
       " 0.5311136058767654 \n",
       " 0.5061938563633395 \n",
       " 0.48121221988454765\n",
       " 0.4564183046942551 \n",
       " 0.4320598433972644 \n",
       " 0.40838021768701793\n",
       " 0.38561602655616967\n",
       " 0.36399472227765756"
      ]
     },
     "execution_count": 4,
     "metadata": {},
     "output_type": "execute_result"
    }
   ],
   "source": [
    "xs = collect(0.:0.1:10.)\n",
    "ys = sin.(xs) .* 0.25 .+ 0.5"
   ]
  },
  {
   "cell_type": "code",
   "execution_count": 5,
   "metadata": {},
   "outputs": [
    {
     "data": {
      "text/plain": [
       "Ptr{Nothing} @0x00007fa6af4a3b70"
      ]
     },
     "execution_count": 5,
     "metadata": {},
     "output_type": "execute_result"
    }
   ],
   "source": [
    "model = ccall(make_model, Ptr{Cvoid}, (UInt64, Ptr{Float64}, Ptr{Float64}), length(xs), xs, ys)"
   ]
  },
  {
   "cell_type": "code",
   "execution_count": 6,
   "metadata": {},
   "outputs": [
    {
     "data": {
      "text/plain": [
       "Ptr{Nothing} @0x00007fa6af1e0620"
      ]
     },
     "execution_count": 6,
     "metadata": {},
     "output_type": "execute_result"
    }
   ],
   "source": [
    "hcore = ccall(make_hcore, Ptr{Cvoid}, (Ptr{Cvoid}, UInt64), model, 51)"
   ]
  },
  {
   "cell_type": "code",
   "execution_count": 7,
   "metadata": {},
   "outputs": [
    {
     "data": {
      "text/plain": [
       "Ptr{Nothing} @0x00007fa6af1337a0"
      ]
     },
     "execution_count": 7,
     "metadata": {},
     "output_type": "execute_result"
    }
   ],
   "source": [
    "hinst = ccall(make_hinst, Ptr{Cvoid}, (Ptr{Cvoid}, Float64, Float64), hcore, 0., 0.5)"
   ]
  },
  {
   "cell_type": "code",
   "execution_count": 8,
   "metadata": {},
   "outputs": [
    {
     "data": {
      "text/plain": [
       "Ptr{Float64} @0x00007fa6ad15c200"
      ]
     },
     "execution_count": 8,
     "metadata": {},
     "output_type": "execute_result"
    }
   ],
   "source": [
    "eigs = ccall(gen_eigen, Ptr{Float64}, (Ptr{Cvoid}, ), hinst)"
   ]
  },
  {
   "cell_type": "code",
   "execution_count": 9,
   "metadata": {},
   "outputs": [
    {
     "data": {
      "text/plain": [
       "408-element Array{Float64,1}:\n",
       " -42.122689569610685\n",
       " -41.99474559605484 \n",
       " -39.09817017180669 \n",
       " -38.98039984942768 \n",
       " -34.6013538164824  \n",
       " -34.53944482284319 \n",
       " -32.06315375304102 \n",
       " -32.01027888343379 \n",
       " -31.13093004367593 \n",
       " -31.071588669027832\n",
       " -28.911987316424955\n",
       " -28.86192239176474 \n",
       " -28.58170898210154 \n",
       "   ⋮                \n",
       "  10.55164705576458 \n",
       "  10.551720277587277\n",
       "  11.196272560621091\n",
       "  11.197228095383185\n",
       "  11.19929491808812 \n",
       "  11.200456248798307\n",
       "  11.865975611608738\n",
       "  11.867333458909844\n",
       "  11.869266710277653\n",
       "  11.870766079908861\n",
       "  12.557844446612304\n",
       "  12.561244593445226"
      ]
     },
     "execution_count": 9,
     "metadata": {},
     "output_type": "execute_result"
    }
   ],
   "source": [
    "vecs = unsafe_wrap(Array{Float64, 1}, eigs, (8 * 51, )) "
   ]
  },
  {
   "cell_type": "code",
   "execution_count": null,
   "metadata": {},
   "outputs": [],
   "source": []
  },
  {
   "cell_type": "code",
   "execution_count": null,
   "metadata": {},
   "outputs": [],
   "source": []
  }
 ],
 "metadata": {
  "kernelspec": {
   "display_name": "Julia 1.2.0",
   "language": "julia",
   "name": "julia-1.2"
  },
  "language_info": {
   "file_extension": ".jl",
   "mimetype": "application/julia",
   "name": "julia",
   "version": "1.2.0"
  }
 },
 "nbformat": 4,
 "nbformat_minor": 4
}
