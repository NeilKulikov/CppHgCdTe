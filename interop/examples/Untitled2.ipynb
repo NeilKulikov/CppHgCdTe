{
 "cells": [
  {
   "cell_type": "code",
   "execution_count": 1,
   "metadata": {},
   "outputs": [],
   "source": [
    "import numpy as np"
   ]
  },
  {
   "cell_type": "code",
   "execution_count": 2,
   "metadata": {},
   "outputs": [],
   "source": [
    "def rotMatrixFromZX(vz, vx = [1, 0, 0]):\n",
    "    nx = vx / np.linalg.norm(vx)\n",
    "    nz = vz / np.linalg.norm(vz)\n",
    "    assert(abs(np.dot(nx, nz)) < 1e-12)\n",
    "    ny = np.cross(nz, nx)\n",
    "    return np.array([nx, ny, nz])"
   ]
  },
  {
   "cell_type": "code",
   "execution_count": 4,
   "metadata": {},
   "outputs": [],
   "source": [
    "rmat = rotMatrixFromZX([0, 1, 3])"
   ]
  },
  {
   "cell_type": "code",
   "execution_count": 5,
   "metadata": {},
   "outputs": [],
   "source": [
    "from math import sqrt, sin, cos"
   ]
  },
  {
   "cell_type": "code",
   "execution_count": 6,
   "metadata": {},
   "outputs": [],
   "source": [
    "def rotMatrixToEuler(m):\n",
    "    cb = m[2, 2]\n",
    "    if abs(cb) == 1:\n",
    "        sb = 0\n",
    "        cc = 1\n",
    "        sc = 0\n",
    "        sa = m[1, 0]\n",
    "        ca = m[0, 0]\n",
    "    else:\n",
    "        sb = sqrt(1 - cb**2)\n",
    "        cc = m[0, 2] / sb\n",
    "        sc = m[1, 2] / sb\n",
    "        ca = -m[2, 0] / sb\n",
    "        sa = m[2, 1] / sb\n",
    "    return \\\n",
    "        _angleFromSinCos(sa, ca), \\\n",
    "        _angleFromSinCos(sb, cb), \\\n",
    "        _angleFromSinCos(sc, cc),"
   ]
  },
  {
   "cell_type": "code",
   "execution_count": 7,
   "metadata": {},
   "outputs": [],
   "source": [
    "def _angleFromSinCos(s, c):\n",
    "    if c > 0:\n",
    "        return np.arctan(s / c)\n",
    "    elif c < 0:\n",
    "        return np.pi * (-1 if s < 0 else 1) - np.arctan(s / (-c))\n",
    "    else:\n",
    "        return np.pi/2 * np.sign(s)"
   ]
  },
  {
   "cell_type": "code",
   "execution_count": 8,
   "metadata": {},
   "outputs": [],
   "source": [
    "angs = rotMatrixToEuler(rmat) "
   ]
  },
  {
   "cell_type": "code",
   "execution_count": 9,
   "metadata": {},
   "outputs": [
    {
     "data": {
      "text/plain": [
       "(1.5707963267948966, 0.32175055439664235, -1.5707963267948966)"
      ]
     },
     "execution_count": 9,
     "metadata": {},
     "output_type": "execute_result"
    }
   ],
   "source": [
    "angs"
   ]
  },
  {
   "cell_type": "code",
   "execution_count": 12,
   "metadata": {},
   "outputs": [
    {
     "data": {
      "text/plain": [
       "(1.5707963267948966, 0.7853981633974484, -1.5707963267948966)"
      ]
     },
     "execution_count": 12,
     "metadata": {},
     "output_type": "execute_result"
    }
   ],
   "source": [
    "rotMatrixToEuler(rotMatrixFromZX([0, 1, 1])) "
   ]
  },
  {
   "cell_type": "code",
   "execution_count": null,
   "metadata": {},
   "outputs": [],
   "source": []
  }
 ],
 "metadata": {
  "kernelspec": {
   "display_name": "Python 3",
   "language": "python",
   "name": "python3"
  },
  "language_info": {
   "codemirror_mode": {
    "name": "ipython",
    "version": 3
   },
   "file_extension": ".py",
   "mimetype": "text/x-python",
   "name": "python",
   "nbconvert_exporter": "python",
   "pygments_lexer": "ipython3",
   "version": "3.7.5"
  }
 },
 "nbformat": 4,
 "nbformat_minor": 4
}
