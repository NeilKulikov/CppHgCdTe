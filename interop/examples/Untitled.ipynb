{
 "cells": [
  {
   "cell_type": "code",
   "execution_count": 1,
   "metadata": {},
   "outputs": [],
   "source": [
    "import math as m\n",
    "import numpy as np"
   ]
  },
  {
   "cell_type": "code",
   "execution_count": 2,
   "metadata": {},
   "outputs": [],
   "source": [
    "def normalize(vec):\n",
    "    nvec = np.array(vec)\n",
    "    return nvec / np.linalg.norm(nvec)"
   ]
  },
  {
   "cell_type": "code",
   "execution_count": 3,
   "metadata": {},
   "outputs": [],
   "source": [
    "def rotator(angles):\n",
    "    a, b, g = angles\n",
    "    gr = np.array([[m.cos(g), m.sin(g), 0.], [-m.sin(g), m.cos(g), 0.], [0., 0., 1.]])\n",
    "    br = np.array([[m.cos(b), 0., -m.sin(b)], [0., 1., 0.], [m.sin(b), 0., m.cos(b)]])\n",
    "    ar = np.array([[m.cos(a), m.sin(a), 0.], [-m.sin(a), m.cos(a), 0.], [0., 0., 1.]])     \n",
    "    return gr @ br @ ar"
   ]
  },
  {
   "cell_type": "code",
   "execution_count": 4,
   "metadata": {},
   "outputs": [
    {
     "data": {
      "text/plain": [
       "(0.9486832980505138, 0.31622776601683794)"
      ]
     },
     "execution_count": 4,
     "metadata": {},
     "output_type": "execute_result"
    }
   ],
   "source": [
    "3. / m.sqrt(10.), 1. / m.sqrt(10.) "
   ]
  },
  {
   "cell_type": "code",
   "execution_count": 5,
   "metadata": {},
   "outputs": [
    {
     "data": {
      "text/plain": [
       "array([[ 1.00000000e+00, -3.14224174e-18, -1.93633661e-17],\n",
       "       [-3.14224174e-18,  9.48683298e-01, -3.16227766e-01],\n",
       "       [ 1.93633661e-17,  3.16227766e-01,  9.48683298e-01]])"
      ]
     },
     "execution_count": 5,
     "metadata": {},
     "output_type": "execute_result"
    }
   ],
   "source": [
    "rotator((m.pi / 2., m.atan(1. / 3.), -m.pi / 2.))"
   ]
  },
  {
   "cell_type": "code",
   "execution_count": 6,
   "metadata": {},
   "outputs": [],
   "source": [
    "import scipy.optimize as opt"
   ]
  },
  {
   "cell_type": "code",
   "execution_count": 7,
   "metadata": {},
   "outputs": [],
   "source": [
    "def rotate(xs, ags):\n",
    "    return rotator(ags) @ xs"
   ]
  },
  {
   "cell_type": "code",
   "execution_count": 8,
   "metadata": {},
   "outputs": [
    {
     "data": {
      "text/plain": [
       "array([0.        , 0.31622777, 0.9486833 ])"
      ]
     },
     "execution_count": 8,
     "metadata": {},
     "output_type": "execute_result"
    }
   ],
   "source": [
    "normalize([0., 1., 3.])"
   ]
  },
  {
   "cell_type": "code",
   "execution_count": 9,
   "metadata": {},
   "outputs": [],
   "source": [
    "res = normalize([0., 1., 3.])\n",
    "ort = np.array([0., 0., 1.])\n",
    "fopt = lambda x: rotate(ort, x) - res"
   ]
  },
  {
   "cell_type": "code",
   "execution_count": 47,
   "metadata": {},
   "outputs": [],
   "source": [
    "result = opt.root(fopt, np.random.rand(3))"
   ]
  },
  {
   "cell_type": "code",
   "execution_count": 48,
   "metadata": {},
   "outputs": [
    {
     "data": {
      "text/plain": [
       "    fjac: array([[-0.78925542,  0.56599867, -0.2381625 ],\n",
       "       [ 0.44681294,  0.79538416,  0.40953906],\n",
       "       [ 0.42122924,  0.21681684, -0.88065679]])\n",
       "     fun: array([-1.34343852e-13,  7.08322290e-14, -2.35367281e-14])\n",
       " message: 'The solution converged.'\n",
       "    nfev: 25\n",
       "     qtf: array([-1.31808663e-10,  1.14754882e-11,  1.76476640e-11])\n",
       "       r: array([ 0.16005979,  0.98957654, -0.03084766,  0.31028766,  0.08577842,\n",
       "        0.04781004])\n",
       "  status: 1\n",
       " success: True\n",
       "       x: array([1.56462908, 0.32175055, 1.57079633])"
      ]
     },
     "execution_count": 48,
     "metadata": {},
     "output_type": "execute_result"
    }
   ],
   "source": [
    "result"
   ]
  },
  {
   "cell_type": "code",
   "execution_count": 25,
   "metadata": {},
   "outputs": [
    {
     "data": {
      "text/plain": [
       "0.3217505543966422"
      ]
     },
     "execution_count": 25,
     "metadata": {},
     "output_type": "execute_result"
    }
   ],
   "source": [
    "m.atan(1/3)"
   ]
  },
  {
   "cell_type": "code",
   "execution_count": 26,
   "metadata": {},
   "outputs": [
    {
     "data": {
      "text/plain": [
       "-0.5000000000000008"
      ]
     },
     "execution_count": 26,
     "metadata": {},
     "output_type": "execute_result"
    }
   ],
   "source": [
    "result[\"x\"][2] / m.pi"
   ]
  },
  {
   "cell_type": "code",
   "execution_count": 27,
   "metadata": {},
   "outputs": [
    {
     "data": {
      "text/plain": [
       "102.04485933774792"
      ]
     },
     "execution_count": 27,
     "metadata": {},
     "output_type": "execute_result"
    }
   ],
   "source": [
    "result[\"x\"][0] / m.pi"
   ]
  },
  {
   "cell_type": "code",
   "execution_count": 28,
   "metadata": {},
   "outputs": [],
   "source": [
    "rot = rotator(result[\"x\"])"
   ]
  },
  {
   "cell_type": "code",
   "execution_count": 29,
   "metadata": {},
   "outputs": [
    {
     "data": {
      "text/plain": [
       "array([[ 1.40463723e-01, -9.90085826e-01, -7.53019997e-16],\n",
       "       [ 9.39277887e-01,  1.33255588e-01,  3.16227766e-01],\n",
       "       [-3.13092629e-01, -4.44185294e-02,  9.48683298e-01]])"
      ]
     },
     "execution_count": 29,
     "metadata": {},
     "output_type": "execute_result"
    }
   ],
   "source": [
    "rot"
   ]
  },
  {
   "cell_type": "code",
   "execution_count": 30,
   "metadata": {},
   "outputs": [
    {
     "data": {
      "text/plain": [
       "(array([0.1112013+0.9937979j, 0.1112013-0.9937979j, 1.       +0.j       ]),\n",
       " array([[ 0.0204663 +0.69506787j,  0.0204663 -0.69506787j,\n",
       "         -0.18144851+0.j        ],\n",
       "        [ 0.69827875+0.j        ,  0.69827875-0.j        ,\n",
       "          0.15752329+0.j        ],\n",
       "        [-0.10948938+0.12992556j, -0.10948938-0.12992556j,\n",
       "          0.97070225+0.j        ]]))"
      ]
     },
     "execution_count": 30,
     "metadata": {},
     "output_type": "execute_result"
    }
   ],
   "source": [
    "np.linalg.eig(rotator(result[\"x\"]))"
   ]
  },
  {
   "cell_type": "code",
   "execution_count": 36,
   "metadata": {},
   "outputs": [
    {
     "data": {
      "text/plain": [
       "array([-7.53019997e-16, -2.77555756e-16,  1.11022302e-16])"
      ]
     },
     "execution_count": 36,
     "metadata": {},
     "output_type": "execute_result"
    }
   ],
   "source": [
    "rot @ ort - res"
   ]
  },
  {
   "cell_type": "code",
   "execution_count": 32,
   "metadata": {},
   "outputs": [
    {
     "data": {
      "text/plain": [
       "array([-1.93633661e-17, -3.16227766e-01,  9.48683298e-01])"
      ]
     },
     "execution_count": 32,
     "metadata": {},
     "output_type": "execute_result"
    }
   ],
   "source": [
    "rotator([m.pi / 2., m.atan(1. / 3.), -m.pi / 2.]) @ ort"
   ]
  },
  {
   "cell_type": "code",
   "execution_count": 38,
   "metadata": {},
   "outputs": [
    {
     "data": {
      "text/plain": [
       "array([-1.93633661e-17,  0.00000000e+00,  0.00000000e+00])"
      ]
     },
     "execution_count": 38,
     "metadata": {},
     "output_type": "execute_result"
    }
   ],
   "source": [
    "rotator([-m.pi / 2., m.atan(1. / 3.), m.pi / 2.]) @ ort - res"
   ]
  },
  {
   "cell_type": "code",
   "execution_count": 33,
   "metadata": {},
   "outputs": [
    {
     "data": {
      "text/plain": [
       "array([[ 1.00000000e+00, -3.14224174e-18, -1.93633661e-17],\n",
       "       [-3.14224174e-18,  9.48683298e-01, -3.16227766e-01],\n",
       "       [ 1.93633661e-17,  3.16227766e-01,  9.48683298e-01]])"
      ]
     },
     "execution_count": 33,
     "metadata": {},
     "output_type": "execute_result"
    }
   ],
   "source": [
    "rotator([m.pi / 2., m.atan(1. / 3.), -m.pi / 2.])"
   ]
  },
  {
   "cell_type": "code",
   "execution_count": 41,
   "metadata": {},
   "outputs": [
    {
     "data": {
      "text/plain": [
       "array([0.3984213 , 0.71478173, 0.21025198, 0.46680496, 0.8304873 ,\n",
       "       0.67965083, 0.11108842, 0.64174635, 0.10757734, 0.6175859 ])"
      ]
     },
     "execution_count": 41,
     "metadata": {},
     "output_type": "execute_result"
    }
   ],
   "source": [
    "np.random.rand(10)"
   ]
  },
  {
   "cell_type": "code",
   "execution_count": 42,
   "metadata": {},
   "outputs": [],
   "source": [
    "def adopt(x):\n",
    "    n = int(0.5 * x / m.pi)\n",
    "    return x - 2. * m.pi * float(n)"
   ]
  },
  {
   "cell_type": "code",
   "execution_count": 46,
   "metadata": {},
   "outputs": [
    {
     "data": {
      "text/plain": [
       "0.0"
      ]
     },
     "execution_count": 46,
     "metadata": {},
     "output_type": "execute_result"
    }
   ],
   "source": [
    "adopt(6.4) - (6.4 - 2. * m.pi)"
   ]
  },
  {
   "cell_type": "code",
   "execution_count": null,
   "metadata": {},
   "outputs": [],
   "source": []
  }
 ],
 "metadata": {
  "kernelspec": {
   "display_name": "Python 3",
   "language": "python",
   "name": "python3"
  },
  "language_info": {
   "codemirror_mode": {
    "name": "ipython",
    "version": 3
   },
   "file_extension": ".py",
   "mimetype": "text/x-python",
   "name": "python",
   "nbconvert_exporter": "python",
   "pygments_lexer": "ipython3",
   "version": "3.7.5"
  }
 },
 "nbformat": 4,
 "nbformat_minor": 4
}
