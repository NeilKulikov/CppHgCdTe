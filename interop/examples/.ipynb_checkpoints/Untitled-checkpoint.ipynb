{
 "cells": [
  {
   "cell_type": "code",
   "execution_count": 1,
   "metadata": {},
   "outputs": [],
   "source": [
    "import math as m\n",
    "import numpy as np"
   ]
  },
  {
   "cell_type": "code",
   "execution_count": 2,
   "metadata": {},
   "outputs": [],
   "source": [
    "def normalize(vec):\n",
    "    nvec = np.array(vec)\n",
    "    return nvec / np.linalg.norm(nvec)"
   ]
  },
  {
   "cell_type": "code",
   "execution_count": 22,
   "metadata": {},
   "outputs": [],
   "source": [
    "def rotator(angles):\n",
    "    a, b, g = angles\n",
    "    gr = np.array([[m.cos(g), m.sin(g), 0.], [-m.sin(g), m.cos(g), 0.], [0., 0., 1.]])\n",
    "    br = np.array([[m.cos(b), 0., -m.sin(b)], [0., 1., 0.], [m.sin(b), 0., m.cos(b)]])\n",
    "    ar = np.array([[m.cos(a), m.sin(a), 0.], [-m.sin(a), m.cos(a), 0.], [0., 0., 1.]])     \n",
    "    return gr @ br @ ar"
   ]
  },
  {
   "cell_type": "code",
   "execution_count": 4,
   "metadata": {},
   "outputs": [
    {
     "data": {
      "text/plain": [
       "(0.9486832980505138, 0.31622776601683794)"
      ]
     },
     "execution_count": 4,
     "metadata": {},
     "output_type": "execute_result"
    }
   ],
   "source": [
    "3. / m.sqrt(10.), 1. / m.sqrt(10.) "
   ]
  },
  {
   "cell_type": "code",
   "execution_count": 5,
   "metadata": {},
   "outputs": [
    {
     "data": {
      "text/plain": [
       "array([[ 1.00000000e+00, -3.14224174e-18, -1.93633661e-17],\n",
       "       [-3.14224174e-18,  9.48683298e-01, -3.16227766e-01],\n",
       "       [ 1.93633661e-17,  3.16227766e-01,  9.48683298e-01]])"
      ]
     },
     "execution_count": 5,
     "metadata": {},
     "output_type": "execute_result"
    }
   ],
   "source": [
    "rotator((m.pi / 2., m.atan(1. / 3.), -m.pi / 2.))"
   ]
  },
  {
   "cell_type": "code",
   "execution_count": 6,
   "metadata": {},
   "outputs": [],
   "source": [
    "import scipy.optimize as opt"
   ]
  },
  {
   "cell_type": "code",
   "execution_count": 7,
   "metadata": {},
   "outputs": [],
   "source": [
    "def rotate(xs, ags):\n",
    "    return rotator(ags) @ xs"
   ]
  },
  {
   "cell_type": "code",
   "execution_count": 8,
   "metadata": {},
   "outputs": [
    {
     "data": {
      "text/plain": [
       "array([0.        , 0.31622777, 0.9486833 ])"
      ]
     },
     "execution_count": 8,
     "metadata": {},
     "output_type": "execute_result"
    }
   ],
   "source": [
    "normalize([0., 1., 3.])"
   ]
  },
  {
   "cell_type": "code",
   "execution_count": 9,
   "metadata": {},
   "outputs": [],
   "source": [
    "res = normalize([0., 1., 3.])\n",
    "ort = np.array([0., 0., 1.])\n",
    "fopt = lambda x: rotate(ort, x) - res"
   ]
  },
  {
   "cell_type": "code",
   "execution_count": 15,
   "metadata": {},
   "outputs": [],
   "source": [
    "result = opt.root(fopt, np.array([1., 1., 1.]))"
   ]
  },
  {
   "cell_type": "code",
   "execution_count": 16,
   "metadata": {},
   "outputs": [
    {
     "data": {
      "text/plain": [
       "    fjac: array([[-0.76702072, -0.62998033,  0.1216717 ],\n",
       "       [ 0.63244216, -0.71036486,  0.30886677],\n",
       "       [-0.10814869,  0.31385752,  0.94329069]])\n",
       "     fun: array([-2.66537392e-12, -2.64499533e-12,  8.81739126e-13])\n",
       " message: 'The solution converged.'\n",
       "    nfev: 19\n",
       "     qtf: array([-1.07307577e-10, -4.87693302e-10,  2.45007524e-11])\n",
       "       r: array([-4.98072997e-06, -6.37184241e-01, -2.41778931e-01, -7.70711516e-01,\n",
       "        1.99890244e-01, -3.42649459e-02])\n",
       "  status: 1\n",
       " success: True\n",
       "       x: array([211.59765868,   0.32175055,   1.57079633])"
      ]
     },
     "execution_count": 16,
     "metadata": {},
     "output_type": "execute_result"
    }
   ],
   "source": [
    "result"
   ]
  },
  {
   "cell_type": "code",
   "execution_count": 11,
   "metadata": {},
   "outputs": [
    {
     "data": {
      "text/plain": [
       "0.3217505543966422"
      ]
     },
     "execution_count": 11,
     "metadata": {},
     "output_type": "execute_result"
    }
   ],
   "source": [
    "m.atan(1/3)"
   ]
  },
  {
   "cell_type": "code",
   "execution_count": 17,
   "metadata": {},
   "outputs": [
    {
     "data": {
      "text/plain": [
       "0.4999999999973171"
      ]
     },
     "execution_count": 17,
     "metadata": {},
     "output_type": "execute_result"
    }
   ],
   "source": [
    "result[\"x\"][2] / m.pi"
   ]
  },
  {
   "cell_type": "code",
   "execution_count": 18,
   "metadata": {},
   "outputs": [
    {
     "data": {
      "text/plain": [
       "67.35362665079434"
      ]
     },
     "execution_count": 18,
     "metadata": {},
     "output_type": "execute_result"
    }
   ],
   "source": [
    "result[\"x\"][0] / m.pi"
   ]
  },
  {
   "cell_type": "code",
   "execution_count": 12,
   "metadata": {},
   "outputs": [],
   "source": [
    "rot = rotator(result[\"x\"])"
   ]
  },
  {
   "cell_type": "code",
   "execution_count": 19,
   "metadata": {},
   "outputs": [
    {
     "data": {
      "text/plain": [
       "array([[ 8.70101731e-01,  4.92872172e-01, -2.51299747e-11],\n",
       "       [-4.67579597e-01,  8.25450980e-01,  3.16227766e-01],\n",
       "       [ 1.55859866e-01, -2.75150327e-01,  9.48683298e-01]])"
      ]
     },
     "execution_count": 19,
     "metadata": {},
     "output_type": "execute_result"
    }
   ],
   "source": [
    "rot"
   ]
  },
  {
   "cell_type": "code",
   "execution_count": 16,
   "metadata": {},
   "outputs": [
    {
     "data": {
      "text/plain": [
       "(array([-0.49367533+0.86964629j, -0.49367533-0.86964629j,\n",
       "         1.        +0.j        ]),\n",
       " array([[-0.69423753+0.j        , -0.69423753-0.j        ,\n",
       "          0.18991706+0.j        ],\n",
       "        [ 0.04252004+0.67072679j,  0.04252004-0.67072679j,\n",
       "          0.31086207+0.j        ],\n",
       "        [ 0.12738246-0.2238874j ,  0.12738246+0.2238874j ,\n",
       "          0.93128743+0.j        ]]))"
      ]
     },
     "execution_count": 16,
     "metadata": {},
     "output_type": "execute_result"
    }
   ],
   "source": [
    "np.linalg.eig(rotator(result[\"x\"]))"
   ]
  },
  {
   "cell_type": "code",
   "execution_count": 20,
   "metadata": {},
   "outputs": [
    {
     "data": {
      "text/plain": [
       "array([-2.51299747e-11,  3.16227766e-01,  9.48683298e-01])"
      ]
     },
     "execution_count": 20,
     "metadata": {},
     "output_type": "execute_result"
    }
   ],
   "source": [
    "rot @ ort"
   ]
  },
  {
   "cell_type": "code",
   "execution_count": 23,
   "metadata": {},
   "outputs": [
    {
     "name": "stdout",
     "output_type": "stream",
     "text": [
      "[[ 6.123234e-17 -1.000000e+00  0.000000e+00]\n",
      " [ 1.000000e+00  6.123234e-17  0.000000e+00]\n",
      " [ 0.000000e+00  0.000000e+00  1.000000e+00]]\n"
     ]
    },
    {
     "data": {
      "text/plain": [
       "array([-1.93633661e-17, -3.16227766e-01,  9.48683298e-01])"
      ]
     },
     "execution_count": 23,
     "metadata": {},
     "output_type": "execute_result"
    }
   ],
   "source": [
    "rotator([m.pi / 2., m.atan(1. / 3.), -m.pi / 2.]) @ ort"
   ]
  },
  {
   "cell_type": "code",
   "execution_count": 26,
   "metadata": {},
   "outputs": [
    {
     "name": "stdout",
     "output_type": "stream",
     "text": [
      "[[0 1 2]\n",
      " [3 4 5]\n",
      " [6 7 8]]\n"
     ]
    }
   ],
   "source": [
    "print(np.array([[0, 1, 2], [3, 4, 5], [6, 7, 8]]))"
   ]
  },
  {
   "cell_type": "code",
   "execution_count": null,
   "metadata": {},
   "outputs": [],
   "source": []
  }
 ],
 "metadata": {
  "kernelspec": {
   "display_name": "Python 3",
   "language": "python",
   "name": "python3"
  },
  "language_info": {
   "codemirror_mode": {
    "name": "ipython",
    "version": 3
   },
   "file_extension": ".py",
   "mimetype": "text/x-python",
   "name": "python",
   "nbconvert_exporter": "python",
   "pygments_lexer": "ipython3",
   "version": "3.7.5"
  }
 },
 "nbformat": 4,
 "nbformat_minor": 4
}
