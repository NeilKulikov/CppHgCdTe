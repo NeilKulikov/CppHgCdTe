{
 "cells": [
  {
   "cell_type": "code",
   "execution_count": 1,
   "metadata": {},
   "outputs": [],
   "source": [
    "import numpy as np"
   ]
  },
  {
   "cell_type": "code",
   "execution_count": 2,
   "metadata": {},
   "outputs": [],
   "source": [
    "import math as m"
   ]
  },
  {
   "cell_type": "code",
   "execution_count": 3,
   "metadata": {},
   "outputs": [],
   "source": [
    "import hgcdte"
   ]
  },
  {
   "cell_type": "code",
   "execution_count": 4,
   "metadata": {},
   "outputs": [],
   "source": [
    "import matplotlib.pyplot as plt"
   ]
  },
  {
   "cell_type": "code",
   "execution_count": 5,
   "metadata": {},
   "outputs": [],
   "source": [
    "xs = [0., 20.]\n",
    "ys = [1., 1.]"
   ]
  },
  {
   "cell_type": "code",
   "execution_count": 6,
   "metadata": {},
   "outputs": [
    {
     "data": {
      "image/png": "[encoded data removed]",
      "text/plain": [
       "<Figure size 432x288 with 1 Axes>"
      ]
     },
     "metadata": {
      "needs_background": "light"
     },
     "output_type": "display_data"
    }
   ],
   "source": [
    "plt.plot(xs, ys)\n",
    "plt.grid()"
   ]
  },
  {
   "cell_type": "code",
   "execution_count": 7,
   "metadata": {},
   "outputs": [],
   "source": [
    "rot = hgcdte.rotator(ags = [m.pi / 2., m.atan(1. / 3.), -m.pi / 2.])\n",
    "mod = hgcdte.model(xs, ys)"
   ]
  },
  {
   "cell_type": "code",
   "execution_count": 8,
   "metadata": {},
   "outputs": [],
   "source": [
    "hcr = hgcdte.hcore(mod, bs = 1, rot = rot)"
   ]
  },
  {
   "cell_type": "code",
   "execution_count": 9,
   "metadata": {},
   "outputs": [
    {
     "name": "stdout",
     "output_type": "stream",
     "text": [
      "[[ 1.06724184e+00+0.00000000e+00j  0.00000000e+00+0.00000000e+00j\n",
      "  -5.98446438e-01+7.77341543e-17j  2.10206024e-16-5.68881747e-12j\n",
      "   3.45513212e-01-6.62294502e-18j -4.91695182e-16+1.75359727e-13j\n",
      "   2.67741397e-17-1.38777878e-17j -4.88629470e-01+4.34484474e-18j]\n",
      " [ 0.00000000e+00+0.00000000e+00j  1.06724184e+00+0.00000000e+00j\n",
      "   4.83102532e-16-1.75387482e-13j -3.45513212e-01-8.87047476e-18j\n",
      "  -1.88780605e-16+5.68887298e-12j  5.98446438e-01-4.78911867e-17j\n",
      "  -4.88629470e-01-4.34484474e-18j -2.67741397e-17-1.38777878e-17j]\n",
      " [-5.98446438e-01-7.77341543e-17j  4.83102532e-16+1.75387482e-13j\n",
      "  -6.15338764e-01+0.00000000e+00j  4.50535611e-16+1.11022302e-16j\n",
      "  -1.84774220e-02-2.30500083e-17j -7.34280070e-16-1.90819582e-17j\n",
      "  -2.24721766e-17-7.65880415e-15j  2.61310208e-02+3.17948384e-18j]\n",
      " [ 2.10206024e-16+5.68883829e-12j -3.45513212e-01+8.87047476e-18j\n",
      "   4.50535611e-16-1.38777878e-16j -6.36674653e-01-1.23259516e-32j\n",
      "  -2.21385445e-17-8.32667268e-17j -1.84774220e-02+2.86608505e-17j\n",
      "   1.50867519e-02-2.53177262e-19j -8.44582593e-18-2.48401126e-13j]\n",
      " [ 3.45513212e-01+6.62294502e-18j -1.88780605e-16-5.68888686e-12j\n",
      "  -1.84774220e-02+2.30500083e-17j -2.21385445e-17+5.55111512e-17j\n",
      "  -6.36674653e-01+0.00000000e+00j  3.73968795e-16-2.77555756e-17j\n",
      "   8.97582996e-18+2.48402861e-13j -1.50867519e-02-1.55039413e-19j]\n",
      " [-4.91695182e-16-1.75331971e-13j  5.98446438e-01+4.78911867e-17j\n",
      "  -7.34280070e-16+1.90819582e-17j -1.84774220e-02-2.86608505e-17j\n",
      "   3.73968795e-16+2.77555756e-17j -6.15338764e-01+0.00000000e+00j\n",
      "  -2.61310208e-02-2.30591668e-18j  2.00921327e-17+7.65706942e-15j]\n",
      " [ 2.67741397e-17-1.38777878e-17j -4.88629470e-01+4.34484474e-18j\n",
      "  -2.24721766e-17+7.65706942e-15j  1.50867519e-02+2.53177262e-19j\n",
      "   8.97582996e-18-2.48403294e-13j -2.61310208e-02+2.30591668e-18j\n",
      "  -1.53600671e+00+0.00000000e+00j  0.00000000e+00+2.77555756e-17j]\n",
      " [-4.88629470e-01-4.34484474e-18j -2.67741397e-17-1.38777878e-17j\n",
      "   2.61310208e-02-3.17948384e-18j -8.44582593e-18+2.48401126e-13j\n",
      "  -1.50867519e-02+1.55039413e-19j  2.00921327e-17-7.65620206e-15j\n",
      "   0.00000000e+00+2.77555756e-17j -1.53600671e+00+0.00000000e+00j]]\n"
     ]
    }
   ],
   "source": [
    "print(hcr.hinst((1., 0.)))"
   ]
  },
  {
   "cell_type": "code",
   "execution_count": 10,
   "metadata": {},
   "outputs": [],
   "source": [
    "#ks2 = np.arange(0., 1.02, 0.02)\n",
    "ks2 = np.array([0.])"
   ]
  },
  {
   "cell_type": "code",
   "execution_count": 11,
   "metadata": {},
   "outputs": [],
   "source": [
    "eiss2 = np.array([hcr.spectre((kx, 0.)) for kx in ks2])"
   ]
  },
  {
   "cell_type": "code",
   "execution_count": 12,
   "metadata": {},
   "outputs": [
    {
     "data": {
      "text/plain": [
       "array([[-1.48 , -1.48 , -0.57 , -0.57 , -0.57 , -0.57 ,  1.036,  1.036]])"
      ]
     },
     "execution_count": 12,
     "metadata": {},
     "output_type": "execute_result"
    }
   ],
   "source": [
    "eiss2"
   ]
  },
  {
   "cell_type": "code",
   "execution_count": 13,
   "metadata": {},
   "outputs": [],
   "source": [
    "import hkl\n",
    "import h5py"
   ]
  },
  {
   "cell_type": "code",
   "execution_count": 14,
   "metadata": {},
   "outputs": [],
   "source": [
    "inp = h5py.File('h1.hdf5', 'r')"
   ]
  },
  {
   "cell_type": "code",
   "execution_count": 15,
   "metadata": {},
   "outputs": [],
   "source": [
    "cd, hg = inp['HgTe']['013'][:], inp['CdTe']['013'][:]"
   ]
  },
  {
   "cell_type": "code",
   "execution_count": 16,
   "metadata": {},
   "outputs": [
    {
     "name": "stdout",
     "output_type": "stream",
     "text": [
      "[1.5707963267948966, 0.3217505543966422, -1.5707963267948966]\n",
      "[ 1.00000000e+00 -3.14224174e-18  1.93633661e-17]\n"
     ]
    }
   ],
   "source": [
    "ags = [m.pi / 2., m.atan(1. / 3.), -m.pi / 2.]\n",
    "print(ags)\n",
    "vec = hkl.rotate([1., 0., 0.], ags)\n",
    "print(vec)"
   ]
  },
  {
   "cell_type": "code",
   "execution_count": 17,
   "metadata": {},
   "outputs": [
    {
     "name": "stdout",
     "output_type": "stream",
     "text": [
      "[[ 1.00000000e+00 -3.14224174e-18 -1.93633661e-17]\n",
      " [-3.14224174e-18  9.48683298e-01 -3.16227766e-01]\n",
      " [ 1.93633661e-17  3.16227766e-01  9.48683298e-01]]\n"
     ]
    }
   ],
   "source": [
    "print(hkl.rotator(ags))"
   ]
  },
  {
   "cell_type": "code",
   "execution_count": 18,
   "metadata": {},
   "outputs": [
    {
     "name": "stdout",
     "output_type": "stream",
     "text": [
      "[ 1.00000000e+00  1.00000000e+00 -3.14224174e-18  1.93633661e-17]\n"
     ]
    }
   ],
   "source": [
    "qv = np.array([1., *vec])\n",
    "print(qv)"
   ]
  },
  {
   "cell_type": "code",
   "execution_count": 19,
   "metadata": {},
   "outputs": [
    {
     "data": {
      "text/plain": [
       "-264.9"
      ]
     },
     "execution_count": 19,
     "metadata": {},
     "output_type": "execute_result"
    }
   ],
   "source": [
    "-303. + 38.1"
   ]
  },
  {
   "cell_type": "code",
   "execution_count": 20,
   "metadata": {},
   "outputs": [
    {
     "data": {
      "text/plain": [
       "(-264.9001791977312+0j)"
      ]
     },
     "execution_count": 20,
     "metadata": {},
     "output_type": "execute_result"
    }
   ],
   "source": [
    "qv @ cd[0, 0, :, :] @ qv"
   ]
  },
  {
   "cell_type": "code",
   "execution_count": 21,
   "metadata": {},
   "outputs": [
    {
     "data": {
      "text/plain": [
       "array([[-303.        +0.j       ,    0.        +0.j       ,\n",
       "           0.        +0.j       ,    0.        +0.j       ],\n",
       "       [   0.        +0.j       ,   38.0998208 +0.j       ,\n",
       "           0.       +38.0998208j,    0.        +0.j       ],\n",
       "       [   0.        +0.j       ,    0.       -38.0998208j,\n",
       "          38.0998208 +0.j       ,    0.        +0.j       ],\n",
       "       [   0.        +0.j       ,    0.        +0.j       ,\n",
       "           0.        +0.j       ,   38.0998208 +0.j       ]])"
      ]
     },
     "execution_count": 21,
     "metadata": {},
     "output_type": "execute_result"
    }
   ],
   "source": [
    "cd[0, 0, :, :]"
   ]
  },
  {
   "cell_type": "code",
   "execution_count": 22,
   "metadata": {},
   "outputs": [
    {
     "data": {
      "text/plain": [
       "array([[1036.         +0.j       ,    0.         +0.j       ,\n",
       "           0.         +0.j       ,    0.         +0.j       ],\n",
       "       [   0.         +0.j       ,   31.24185306 +0.j       ,\n",
       "           0.        +38.0998208j,    0.         +0.j       ],\n",
       "       [   0.         +0.j       ,    0.        -38.0998208j,\n",
       "          31.24185306 +0.j       ,    0.         +0.j       ],\n",
       "       [   0.         +0.j       ,    0.         +0.j       ,\n",
       "           0.         +0.j       ,   31.24185306 +0.j       ]])"
      ]
     },
     "execution_count": 22,
     "metadata": {},
     "output_type": "execute_result"
    }
   ],
   "source": [
    "hg[0, 0, :, :]"
   ]
  },
  {
   "cell_type": "code",
   "execution_count": null,
   "metadata": {},
   "outputs": [],
   "source": [
    "cd, hg = inp['HgTe']['013'][:], inp['CdTe']['013'][:]"
   ]
  },
  {
   "cell_type": "code",
   "execution_count": null,
   "metadata": {},
   "outputs": [],
   "source": []
  }
 ],
 "metadata": {
  "kernelspec": {
   "display_name": "Python 3",
   "language": "python",
   "name": "python3"
  },
  "language_info": {
   "codemirror_mode": {
    "name": "ipython",
    "version": 3
   },
   "file_extension": ".py",
   "mimetype": "text/x-python",
   "name": "python",
   "nbconvert_exporter": "python",
   "pygments_lexer": "ipython3",
   "version": "3.7.5"
  }
 },
 "nbformat": 4,
 "nbformat_minor": 4
}
